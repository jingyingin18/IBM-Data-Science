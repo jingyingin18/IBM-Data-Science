{
 "cells": [
  {
   "cell_type": "markdown",
   "id": "a3609f27-0039-4944-8ea4-ce17d0f0cc3d",
   "metadata": {},
   "source": [
    "# Data Science Tools and Ecosystem"
   ]
  },
  {
   "cell_type": "markdown",
   "id": "2d62413a-11f6-404e-9bc9-b25788b98cee",
   "metadata": {},
   "source": [
    "In this notebook, Data Science Tools and Ecosystem are summarized."
   ]
  },
  {
   "cell_type": "markdown",
   "id": "acfae71f-c6ae-4700-aa72-3458ffa49752",
   "metadata": {},
   "source": [
    "**Objectives:**\n",
    "* List popular languages for Data Science.\n",
    "* List popular libraries for Data Science.\n",
    "* Practice Jupyter notebook markdown.\n",
    "* Practice coding in Python.\n",
    "* Familiar with GitHub."
   ]
  },
  {
   "cell_type": "markdown",
   "id": "d82a5352-9f57-4ed9-aed1-67c21d4c35e0",
   "metadata": {},
   "source": [
    "Some of the popular languages that Data Scientists use are:\n",
    "1. Python\n",
    "2. R\n",
    "3. C++"
   ]
  },
  {
   "cell_type": "markdown",
   "id": "c09135dd-0ca2-47d1-8dc6-a6717ed126a0",
   "metadata": {},
   "source": [
    "Some of the commonly used libraries used by Data Scientists include:\n",
    "1. Pandas\n",
    "2. Scikit-learn\n",
    "3. Matplotlib"
   ]
  },
  {
   "cell_type": "markdown",
   "id": "18931063-7f5a-4b19-bff2-d4fc7233dd52",
   "metadata": {},
   "source": [
    "|Data Science Tools|\n",
    "|--------|\n",
    "|Visual Studio Code|\n",
    "|RStudio|\n",
    "|JupyterLab|"
   ]
  },
  {
   "cell_type": "markdown",
   "id": "e48ce95b-975b-4b96-a6a8-be6c52c20efb",
   "metadata": {},
   "source": [
    "Below are a few examples of evaluating arithmetic expressions in Python."
   ]
  },
  {
   "cell_type": "code",
   "execution_count": 1,
   "id": "b9c7f6c2-febf-4c9e-a436-0ec6b723ed63",
   "metadata": {},
   "outputs": [
    {
     "name": "stdout",
     "output_type": "stream",
     "text": [
      "17\n"
     ]
    }
   ],
   "source": [
    "#This a simple arithmetic expression to mutiply then add integers.\n",
    "\n",
    "a = (3*4)+5\n",
    "print(a)"
   ]
  },
  {
   "cell_type": "code",
   "execution_count": 2,
   "id": "377ac77a-c10f-409d-a0d5-52ea25e41e9f",
   "metadata": {},
   "outputs": [
    {
     "name": "stdout",
     "output_type": "stream",
     "text": [
      "convert 200 minutes to hours: 3.3333333333333335\n"
     ]
    }
   ],
   "source": [
    "# This will convert 200 minutes to hours by diving by 60.\n",
    "\n",
    "minutes = 200\n",
    "minperhour = 60\n",
    "print(\"convert 200 minutes to hours:\", minutes/minperhour)"
   ]
  },
  {
   "cell_type": "markdown",
   "id": "afc7e454-7585-459f-9537-2d1118b3eef2",
   "metadata": {},
   "source": [
    "## Author: \n",
    "Jingying Wang"
   ]
  },
  {
   "cell_type": "code",
   "execution_count": null,
   "id": "3742bbe1-8233-4d37-badb-3b57001f925d",
   "metadata": {},
   "outputs": [],
   "source": []
  }
 ],
 "metadata": {
  "kernelspec": {
   "display_name": "Python 3 (ipykernel)",
   "language": "python",
   "name": "python3"
  },
  "language_info": {
   "codemirror_mode": {
    "name": "ipython",
    "version": 3
   },
   "file_extension": ".py",
   "mimetype": "text/x-python",
   "name": "python",
   "nbconvert_exporter": "python",
   "pygments_lexer": "ipython3",
   "version": "3.12.7"
  }
 },
 "nbformat": 4,
 "nbformat_minor": 5
}
